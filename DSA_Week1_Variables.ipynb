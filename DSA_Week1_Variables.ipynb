{
  "nbformat": 4,
  "nbformat_minor": 0,
  "metadata": {
    "colab": {
      "name": "DSA_Week1_Variables.ipynb",
      "provenance": [],
      "collapsed_sections": [],
      "authorship_tag": "ABX9TyO2YRXz6u2uDLbOXM0J/tgh",
      "include_colab_link": true
    },
    "kernelspec": {
      "name": "python3",
      "display_name": "Python 3"
    },
    "language_info": {
      "name": "python"
    }
  },
  "cells": [
    {
      "cell_type": "markdown",
      "metadata": {
        "id": "view-in-github",
        "colab_type": "text"
      },
      "source": [
        "<a href=\"https://colab.research.google.com/github/BoomerPython/Week_1/blob/main/DSA_Week1_Variables.ipynb\" target=\"_parent\"><img src=\"https://colab.research.google.com/assets/colab-badge.svg\" alt=\"Open In Colab\"/></a>"
      ]
    },
    {
      "cell_type": "markdown",
      "metadata": {
        "id": "cfUfVwbrjjiK"
      },
      "source": [
        "This file provides some practical experience with variables, operators, data types, and making programs interactive"
      ]
    },
    {
      "cell_type": "markdown",
      "metadata": {
        "id": "aYsXwDY7j-On"
      },
      "source": [
        "# Variables"
      ]
    },
    {
      "cell_type": "markdown",
      "metadata": {
        "id": "emHYZdZ-j9L2"
      },
      "source": [
        "Variables are names given to data that we need to store and manipulate in our programs."
      ]
    },
    {
      "cell_type": "code",
      "metadata": {
        "colab": {
          "base_uri": "https://localhost:8080/"
        },
        "id": "GIlrTCn1jUXq",
        "outputId": "25bb1410-bb30-46df-e9b4-35be27dec142"
      },
      "source": [
        "# We can declare each variable individually\n",
        "\n",
        "coachSalary = 1200\n",
        "coachName = \"Bob\"\n",
        "print(\"$\", coachSalary, \" \", coachName)"
      ],
      "execution_count": 2,
      "outputs": [
        {
          "output_type": "stream",
          "text": [
            "$ 1200   Bob\n"
          ],
          "name": "stdout"
        }
      ]
    },
    {
      "cell_type": "code",
      "metadata": {
        "colab": {
          "base_uri": "https://localhost:8080/"
        },
        "id": "ipECgwWBjjBO",
        "outputId": "cba13db5-cf04-489a-a1f6-c0219728e14d"
      },
      "source": [
        "# We can declare variables collectively\n",
        "\n",
        "coachSalary, coachName = 1400, \"Lincoln\"\n",
        "print(\"$\", coachSalary, \" \", coachName)"
      ],
      "execution_count": 3,
      "outputs": [
        {
          "output_type": "stream",
          "text": [
            "$ 1400   Lincoln\n"
          ],
          "name": "stdout"
        }
      ]
    },
    {
      "cell_type": "code",
      "metadata": {
        "id": "x2fI_3UBk4fG"
      },
      "source": [
        "# Naming a variable\n",
        "# Best practices:  letters, numbers, underscores\n",
        "# No reserved words (like print, input, etc)\n",
        "# Names are case sensitive\n",
        "# Our convention for variables - camelCase\n",
        "# Our convention for files - under_score"
      ],
      "execution_count": null,
      "outputs": []
    },
    {
      "cell_type": "markdown",
      "metadata": {
        "id": "626J7Mf3kvT1"
      },
      "source": [
        "# Assignment Operators"
      ]
    },
    {
      "cell_type": "code",
      "metadata": {
        "colab": {
          "base_uri": "https://localhost:8080/"
        },
        "id": "jLc82j3Ik7di",
        "outputId": "2d20b046-14a6-4477-e714-5728e91c4fd0"
      },
      "source": [
        "# Basic assignment operations\n",
        "\n",
        "x = 5\n",
        "y = 10\n",
        "x = y\n",
        "# y = x   # what is the difference here?\n",
        "print (\"x = \", x)\n",
        "print (\"y = \", y)"
      ],
      "execution_count": 5,
      "outputs": [
        {
          "output_type": "stream",
          "text": [
            "x =  5\n",
            "y =  5\n"
          ],
          "name": "stdout"
        }
      ]
    },
    {
      "cell_type": "markdown",
      "metadata": {
        "id": "pem0Hjp2kEkn"
      },
      "source": [
        "# Data Types"
      ]
    },
    {
      "cell_type": "markdown",
      "metadata": {
        "id": "8gcJFRUlle7i"
      },
      "source": [
        "# Lists"
      ]
    },
    {
      "cell_type": "code",
      "metadata": {
        "colab": {
          "base_uri": "https://localhost:8080/"
        },
        "id": "6Za8yT21loYx",
        "outputId": "0865e2c6-bb3c-4a5a-a2e7-17ce3d71662e"
      },
      "source": [
        "# Declare the list\n",
        "# List elements can be different data types\n",
        "\n",
        "myList = [1, 2, 3, 4, 5, \"Lincoln\"]\n",
        "print(myList)\n",
        "\n",
        "# print the third item\n",
        "# you should get a 3\n",
        "print(myList[2])\n",
        "\n",
        "#print the last item\n",
        "# you should get \"Lincoln\"\n",
        "print(myList[-1])"
      ],
      "execution_count": 6,
      "outputs": [
        {
          "output_type": "stream",
          "text": [
            "[1, 2, 3, 4, 5, 'Lincoln']\n",
            "3\n",
            "Lincoln\n"
          ],
          "name": "stdout"
        }
      ]
    },
    {
      "cell_type": "markdown",
      "metadata": {
        "id": "KEDoCcc3ljYh"
      },
      "source": [
        "# Tuple"
      ]
    },
    {
      "cell_type": "code",
      "metadata": {
        "id": "2c-Y5mA8kLV-"
      },
      "source": [
        "# Tuples are like lists but we cannot modify their\n",
        "# values.\n",
        "# Good for things that will not change - like monthss\n",
        "# of year\n",
        "\n",
        "monthsOfYear = (\"Jan\", \"Feb\", \"Mar\", \"Apr\",\n",
        "                \"May\", \"Jun\", \"Jul\", \"Aug\",\n",
        "                \"Sep\", \"Oct\", \"Nov\", \"Dec\")"
      ],
      "execution_count": 1,
      "outputs": []
    },
    {
      "cell_type": "code",
      "metadata": {
        "colab": {
          "base_uri": "https://localhost:8080/",
          "height": 35
        },
        "id": "-LsubR8snXgI",
        "outputId": "c7e39383-0244-4e63-d4c2-5c8a2999a618"
      },
      "source": [
        "# You can access just like a list - with the index\n",
        "\n",
        "monthsOfYear[5]\n"
      ],
      "execution_count": 2,
      "outputs": [
        {
          "output_type": "execute_result",
          "data": {
            "application/vnd.google.colaboratory.intrinsic+json": {
              "type": "string"
            },
            "text/plain": [
              "'Jun'"
            ]
          },
          "metadata": {
            "tags": []
          },
          "execution_count": 2
        }
      ]
    },
    {
      "cell_type": "code",
      "metadata": {
        "colab": {
          "base_uri": "https://localhost:8080/",
          "height": 35
        },
        "id": "LI2JotJwnjop",
        "outputId": "a5ddd191-ca86-4c42-a51a-7dcd5445efe9"
      },
      "source": [
        "monthsOfYear[-1]"
      ],
      "execution_count": 3,
      "outputs": [
        {
          "output_type": "execute_result",
          "data": {
            "application/vnd.google.colaboratory.intrinsic+json": {
              "type": "string"
            },
            "text/plain": [
              "'Dec'"
            ]
          },
          "metadata": {
            "tags": []
          },
          "execution_count": 3
        }
      ]
    },
    {
      "cell_type": "markdown",
      "metadata": {
        "id": "iVYCNptYnp4N"
      },
      "source": [
        "# Dictionary"
      ]
    },
    {
      "cell_type": "markdown",
      "metadata": {
        "id": "pEC4RvoHn0fm"
      },
      "source": [
        "Dictionary is a collection of related data PAIRS\n",
        "\n",
        "To declare a dictionary, your write:"
      ]
    },
    {
      "cell_type": "code",
      "metadata": {
        "id": "msZFWYcantG-"
      },
      "source": [
        "myCoaches = {\"Barry\":600, \"Gary\":700, \"Howard\":800}"
      ],
      "execution_count": 4,
      "outputs": []
    },
    {
      "cell_type": "code",
      "metadata": {
        "colab": {
          "base_uri": "https://localhost:8080/"
        },
        "id": "wi3zXctJoiOZ",
        "outputId": "6669fcf3-3ea9-4bd5-ec34-6986c9efc456"
      },
      "source": [
        "print(myCoaches)"
      ],
      "execution_count": 8,
      "outputs": [
        {
          "output_type": "stream",
          "text": [
            "{'Barry': 600, 'Gary': 700, 'Howard': 800, 'John': 'Do we acknowledge him'}\n"
          ],
          "name": "stdout"
        }
      ]
    },
    {
      "cell_type": "code",
      "metadata": {
        "id": "8A3yM3zVou38"
      },
      "source": [
        "myCoaches[\"John\"] = \"Do we acknowledge him\""
      ],
      "execution_count": 7,
      "outputs": []
    },
    {
      "cell_type": "code",
      "metadata": {
        "id": "bWUptEfBpDau"
      },
      "source": [
        "del myCoaches[\"John\"]"
      ],
      "execution_count": 9,
      "outputs": []
    },
    {
      "cell_type": "code",
      "metadata": {
        "colab": {
          "base_uri": "https://localhost:8080/"
        },
        "id": "lqO6jf1PpKg0",
        "outputId": "5ac356c7-4ee4-40cf-d398-95335c4afcd0"
      },
      "source": [
        "print(myCoaches)"
      ],
      "execution_count": 10,
      "outputs": [
        {
          "output_type": "stream",
          "text": [
            "{'Barry': 600, 'Gary': 700, 'Howard': 800}\n"
          ],
          "name": "stdout"
        }
      ]
    }
  ]
}