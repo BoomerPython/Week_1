{
  "nbformat": 4,
  "nbformat_minor": 0,
  "metadata": {
    "colab": {
      "name": "DSA_BoomerPython_Week1.ipynb",
      "provenance": [],
      "authorship_tag": "ABX9TyPQ5ujTZAnVdtH2Hl8YU+va",
      "include_colab_link": true
    },
    "kernelspec": {
      "name": "python3",
      "display_name": "Python 3"
    },
    "language_info": {
      "name": "python"
    }
  },
  "cells": [
    {
      "cell_type": "markdown",
      "metadata": {
        "id": "view-in-github",
        "colab_type": "text"
      },
      "source": [
        "<a href=\"https://colab.research.google.com/github/BoomerPython/Week_1/blob/main/DSA_BoomerPython_Week1.ipynb\" target=\"_parent\"><img src=\"https://colab.research.google.com/assets/colab-badge.svg\" alt=\"Open In Colab\"/></a>"
      ]
    },
    {
      "cell_type": "markdown",
      "metadata": {
        "id": "wtWERWNAC6te"
      },
      "source": [
        "This notebook provides an overview of commands & code demonstrated in week 1 of the DSA 5061 Python course.\n",
        "\n",
        "Additional course materials depict the code shown here via the command line and also using an IDE."
      ]
    },
    {
      "cell_type": "code",
      "metadata": {
        "id": "-UTVxE53IGpP"
      },
      "source": [
        "# This notebook provides an overview of commands \n",
        "# & code demonstrated in week 1 of the DSA 5061 Python course.\n",
        "\n",
        "# Additional course materials depict the code shown here via \n",
        "# the command line and also using an IDE."
      ],
      "execution_count": 14,
      "outputs": []
    },
    {
      "cell_type": "code",
      "metadata": {
        "colab": {
          "base_uri": "https://localhost:8080/",
          "height": 54
        },
        "id": "2pdSc_fiIT1L",
        "outputId": "5df59920-b079-4e9d-8915-f0b760fc4256"
      },
      "source": [
        "\"\"\"\n",
        "    This notebook provides an overview of commands & code \n",
        "    demonstrated in week 1 of the DSA 5061 Python course.\n",
        "\n",
        "    Additional course materials depict the code shown here\n",
        "    via the command line and also using an IDE.\n",
        "\"\"\"\n"
      ],
      "execution_count": 15,
      "outputs": [
        {
          "output_type": "execute_result",
          "data": {
            "application/vnd.google.colaboratory.intrinsic+json": {
              "type": "string"
            },
            "text/plain": [
              "'\\n    This notebook provides an overview of commands & code \\n    demonstrated in week 1 of the DSA 5061 Python course.\\n\\n    Additional course materials depict the code shown here\\n    via the command line and also using an IDE.\\n'"
            ]
          },
          "metadata": {
            "tags": []
          },
          "execution_count": 15
        }
      ]
    },
    {
      "cell_type": "code",
      "metadata": {
        "colab": {
          "base_uri": "https://localhost:8080/"
        },
        "id": "DsUtzzJtCz9t",
        "outputId": "bf729bc1-5001-400d-d187-f21237a06645"
      },
      "source": [
        "#The basics - math\n",
        "\n",
        "2+3"
      ],
      "execution_count": 1,
      "outputs": [
        {
          "output_type": "execute_result",
          "data": {
            "text/plain": [
              "5"
            ]
          },
          "metadata": {
            "tags": []
          },
          "execution_count": 1
        }
      ]
    },
    {
      "cell_type": "code",
      "metadata": {
        "colab": {
          "base_uri": "https://localhost:8080/"
        },
        "id": "toaw4HrzDVfj",
        "outputId": "65b096d2-0c5d-4bcd-82a0-ac46e79a5aab"
      },
      "source": [
        "#Storing results\n",
        "\n",
        "ans = 2+3\n",
        "print(ans)"
      ],
      "execution_count": 2,
      "outputs": [
        {
          "output_type": "stream",
          "text": [
            "5\n"
          ],
          "name": "stdout"
        }
      ]
    },
    {
      "cell_type": "code",
      "metadata": {
        "colab": {
          "base_uri": "https://localhost:8080/"
        },
        "id": "TzO7EG-TDbPo",
        "outputId": "8ce8e912-fa18-4b9b-d743-89cff34f29eb"
      },
      "source": [
        "#Making comparisons\n",
        "ans > 3"
      ],
      "execution_count": 3,
      "outputs": [
        {
          "output_type": "execute_result",
          "data": {
            "text/plain": [
              "True"
            ]
          },
          "metadata": {
            "tags": []
          },
          "execution_count": 3
        }
      ]
    },
    {
      "cell_type": "code",
      "metadata": {
        "colab": {
          "base_uri": "https://localhost:8080/"
        },
        "id": "N7JGUGUnDfw9",
        "outputId": "cb3f7df6-6e7c-409f-dafa-d893d68504c5"
      },
      "source": [
        "#Printing to the screen\n",
        "\n",
        "print(\"Boomer - Sooner!\")"
      ],
      "execution_count": 4,
      "outputs": [
        {
          "output_type": "stream",
          "text": [
            "Boomer - Sooner!\n"
          ],
          "name": "stdout"
        }
      ]
    },
    {
      "cell_type": "code",
      "metadata": {
        "colab": {
          "base_uri": "https://localhost:8080/"
        },
        "id": "ZKOI-UvkDmUt",
        "outputId": "79bd2e5f-d1f9-4cd6-bace-1e5dcb45e245"
      },
      "source": [
        "#Storing a greeting\n",
        "\n",
        "greeting = \"Boomer Sooner!\"\n",
        "not_a_greeting = \"Woo Pig!\"\n",
        "print(greeting)"
      ],
      "execution_count": 9,
      "outputs": [
        {
          "output_type": "stream",
          "text": [
            "Boomer Sooner!\n"
          ],
          "name": "stdout"
        }
      ]
    },
    {
      "cell_type": "code",
      "metadata": {
        "colab": {
          "base_uri": "https://localhost:8080/"
        },
        "id": "jWmulPqEEA-h",
        "outputId": "a370b508-1f89-4f96-9281-9a9644444ba9"
      },
      "source": [
        "#Checking a state and printing a greeting\n",
        "\n",
        "if ans > 3:\n",
        "  print(greeting)"
      ],
      "execution_count": 7,
      "outputs": [
        {
          "output_type": "stream",
          "text": [
            "Boomer Sooner!\n"
          ],
          "name": "stdout"
        }
      ]
    },
    {
      "cell_type": "code",
      "metadata": {
        "id": "T1BESE25EOth"
      },
      "source": [
        "#Checking a state and NOT printing a greeting\n",
        "\n",
        "if ans < 3:\n",
        "  print(greeting)"
      ],
      "execution_count": 8,
      "outputs": []
    },
    {
      "cell_type": "code",
      "metadata": {
        "colab": {
          "base_uri": "https://localhost:8080/"
        },
        "id": "uylD5t4pERrt",
        "outputId": "837f3d6a-cb48-469d-b89a-b3f02353f5c0"
      },
      "source": [
        "#Checking a state and printing an alternative\n",
        "\n",
        "if ans < 3:\n",
        "  print(greeting)\n",
        "else:\n",
        "  print(not_a_greeting)\n"
      ],
      "execution_count": 12,
      "outputs": [
        {
          "output_type": "stream",
          "text": [
            "Go Orange!\n"
          ],
          "name": "stdout"
        }
      ]
    },
    {
      "cell_type": "code",
      "metadata": {
        "id": "WP2xpRIoIEGr"
      },
      "source": [
        ""
      ],
      "execution_count": null,
      "outputs": []
    }
  ]
}